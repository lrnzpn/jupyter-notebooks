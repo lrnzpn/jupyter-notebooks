{
 "cells": [
  {
   "cell_type": "markdown",
   "metadata": {},
   "source": [
    "# Strabismus detection"
   ]
  },
  {
   "cell_type": "code",
   "execution_count": 1,
   "metadata": {},
   "outputs": [],
   "source": [
    "import cv2\n",
    "import numpy as np\n",
    "import matplotlib.pyplot as plt\n",
    "import os\n",
    "import math\n",
    "%matplotlib inline"
   ]
  },
  {
   "cell_type": "code",
   "execution_count": 2,
   "metadata": {},
   "outputs": [],
   "source": [
    "kernel = cv2.getStructuringElement(cv2.MORPH_RECT, (5, 5))"
   ]
  },
  {
   "cell_type": "code",
   "execution_count": null,
   "metadata": {},
   "outputs": [],
   "source": [
    "def detect_strab(img,threshold):\n",
    "    \"\"\"\n",
    "    Detects Strabismus using opencv functions\n",
    "    \n",
    "    Parameters\n",
    "    ----------\n",
    "    img : an array of matrices\n",
    "        This is image will be image manipulated through a series of functions\n",
    "        \n",
    "    threshold : int \n",
    "        An integer from 0 to 255\n",
    "    \n",
    "    \"\"\"\n",
    "    \n",
    "    gray = cv2.cvtColor(img, cv2.COLOR_BGR2GRAY) # convert image to grayscale\n",
    "    ret,thresh = cv2.threshold(gray,threshold,255,cv2.THRESH_BINARY_INV) # threshold at 40 for left eye, 50 for right eye best fit\n",
    "    \n",
    "    # image manipulation\n",
    "    closed = cv2.dilate(cv2.erode(thresh, kernel, 1),kernel,1) \n",
    "    closed = cv2.medianBlur(closed,5)\n",
    "    dup = closed.copy()\n",
    "    h,w = closed.shape[:2]\n",
    "    \n",
    "    # fill contours to make a solid shape\n",
    "    mask = np.zeros((h+2,w+2),np.uint8)\n",
    "    cv2.floodFill(dup,mask,(0,0),255)\n",
    "    inv = cv2.bitwise_not(dup)\n",
    "    output = closed | inv\n",
    "    \n",
    "    # find contours\n",
    "    contours, hierarchy = cv2.findContours(output, cv2.RETR_LIST,cv2.CHAIN_APPROX_NONE)\n",
    "    center_iris = None\n",
    "    center_bril = None\n",
    "    \n",
    "    for contour in contours:\n",
    "        area = cv2.contourArea(contour)\n",
    "        # check area of all contours if it fits the given condition\n",
    "        if area < float(20000) and area > float(10000):\n",
    "            m = cv2.moments(contour)\n",
    "            # check if the point is valid\n",
    "            if m['m00'] != 0:\n",
    "                center_iris = (int(m['m10'] / m['m00']), int(m['m01'] / m['m00']))\n",
    "                cv2.circle(img, center_iris, 3, (255,0,0), -1)\n",
    "            ellipse = cv2.fitEllipse(contour)\n",
    "            cv2.ellipse(img, box=ellipse, color=(0, 255, 0))\n",
    "    \n",
    "    \n",
    "    ret,thresh = cv2.threshold(gray,220,255,cv2.THRESH_BINARY_INV)\n",
    "    closed = cv2.dilate(cv2.erode(thresh, kernel, 1),kernel,1)\n",
    "    contours, hierarchy = cv2.findContours(closed, cv2.RETR_LIST,cv2.CHAIN_APPROX_NONE)\n",
    "\n",
    "    for contour in contours:\n",
    "        area = cv2.contourArea(contour)\n",
    "        if area < float(15000) and area > float(10):\n",
    "            m = cv2.moments(contour)\n",
    "            if m['m00'] != 0:\n",
    "                center_bril = (int(m['m10'] / m['m00']), int(m['m01'] / m['m00']))\n",
    "                cv2.circle(img, center_bril, 3, (255,0,0), -1)\n",
    "            ellipse_bril = cv2.fitEllipse(contour)\n",
    "            cv2.ellipse(img, box=ellipse_bril, color=(0, 255, 0))\n",
    "            \n",
    "    if (center_iris != None) & (center_bril != None):\n",
    "        if max(ellipse[1]) < 180:\n",
    "            c = euc_percent_dist(center_iris, center_bril, ellipse)\n",
    "            p = x_percent_dist(center_iris, center_bril, ellipse)\n",
    "            return img, c,p \n",
    "        else:\n",
    "            return img, 0.0, 0.0\n",
    "    else:\n",
    "        return img,0.0,0.0\n",
    "    \n",
    "def euc_percent_dist(center_iris, center_brilliance, ellipse):\n",
    "    x1,y1 = center_iris\n",
    "    x2,y2 = center_brilliance\n",
    "    dist = math.sqrt((x2-x1) ** 2 + (y2-y1) ** 2)\n",
    "    return dist / max(ellipse[1])\n",
    "\n",
    "# abs((xbril - xcent) / max(ellipse[1]))\n",
    "def x_percent_dist(center_iris, center_bril, ellipse):\n",
    "    x1,y1 = center_iris\n",
    "    x2,y2 = center_bril\n",
    "    return abs((x2-x1) / max(ellipse[1]))\n",
    "\n"
   ]
  }
 ],
 "metadata": {
  "kernelspec": {
   "display_name": "Python 3",
   "language": "python",
   "name": "python3"
  },
  "language_info": {
   "codemirror_mode": {
    "name": "ipython",
    "version": 3
   },
   "file_extension": ".py",
   "mimetype": "text/x-python",
   "name": "python",
   "nbconvert_exporter": "python",
   "pygments_lexer": "ipython3",
   "version": "3.7.1"
  }
 },
 "nbformat": 4,
 "nbformat_minor": 2
}
