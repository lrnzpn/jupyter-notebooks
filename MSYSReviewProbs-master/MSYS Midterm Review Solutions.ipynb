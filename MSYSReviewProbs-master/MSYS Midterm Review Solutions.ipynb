{
 "cells": [
  {
   "cell_type": "code",
   "execution_count": 1,
   "metadata": {},
   "outputs": [],
   "source": [
    "import math\n",
    "import os\n",
    "import random\n",
    "import re\n",
    "import sys"
   ]
  },
  {
   "cell_type": "markdown",
   "metadata": {},
   "source": [
    "# Grading Students"
   ]
  },
  {
   "cell_type": "code",
   "execution_count": 4,
   "metadata": {},
   "outputs": [
    {
     "name": "stdout",
     "output_type": "stream",
     "text": [
      "4\n",
      "73\n",
      "67\n",
      "38\n",
      "33\n"
     ]
    },
    {
     "data": {
      "text/plain": [
       "[75, 67, 40, 33]"
      ]
     },
     "execution_count": 4,
     "metadata": {},
     "output_type": "execute_result"
    }
   ],
   "source": [
    "def gradingStudents(grades):\n",
    "    final = []\n",
    "    for grade in grades:\n",
    "        if grade < 38 and grade >= 0:\n",
    "            final.append(grade)\n",
    "        elif grade >= 38:\n",
    "            if grade == 100:\n",
    "                final.append(grade)\n",
    "            elif (5 - grade % 5) < 3:\n",
    "                final.append(grade + (5 - grade % 5))\n",
    "            elif (5 - grade % 5) == 3 or (5 - grade % 5) > 3:\n",
    "                final.append(grade)\n",
    "    return final\n",
    "\n",
    "grades_count = int(input().strip())\n",
    "grades = []\n",
    "\n",
    "for _ in range(grades_count):\n",
    "    grades_item = int(input().strip())\n",
    "    grades.append(grades_item)\n",
    "\n",
    "result = gradingStudents(grades)\n",
    "result"
   ]
  },
  {
   "cell_type": "code",
   "execution_count": 7,
   "metadata": {
    "scrolled": true
   },
   "outputs": [
    {
     "name": "stdout",
     "output_type": "stream",
     "text": [
      "19\n",
      "84\n",
      "94\n",
      "21\n",
      "0\n",
      "18\n",
      "100\n",
      "18\n",
      "62\n",
      "30\n",
      "61\n",
      "53\n",
      "0\n",
      "43\n",
      "2\n",
      "29\n",
      "53\n",
      "61\n",
      "40\n",
      "14\n"
     ]
    },
    {
     "data": {
      "text/plain": [
       "[85, 95, 21, 0, 18, 100, 18, 62, 30, 61, 55, 0, 45, 2, 29, 55, 61, 40, 14]"
      ]
     },
     "execution_count": 7,
     "metadata": {},
     "output_type": "execute_result"
    }
   ],
   "source": [
    "grades_count = int(input().strip())\n",
    "grades = []\n",
    "\n",
    "for _ in range(grades_count):\n",
    "    grades_item = int(input().strip())\n",
    "    grades.append(grades_item)\n",
    "\n",
    "result = gradingStudents(grades)\n",
    "result"
   ]
  },
  {
   "cell_type": "markdown",
   "metadata": {},
   "source": [
    "# Time in Words\n",
    "- Ideally it shouldn't be this many with conditions HAHA\n",
    "- I did this to check for edge cases as well as make sure any possible input would be considered"
   ]
  },
  {
   "cell_type": "code",
   "execution_count": 11,
   "metadata": {},
   "outputs": [
    {
     "name": "stdout",
     "output_type": "stream",
     "text": [
      "5\n",
      "47\n"
     ]
    },
    {
     "data": {
      "text/plain": [
       "'thirteen minutes to six'"
      ]
     },
     "execution_count": 11,
     "metadata": {},
     "output_type": "execute_result"
    }
   ],
   "source": [
    "def timeInWords(h,m):\n",
    "    h_str = ''\n",
    "    m_str = ''\n",
    "    link = ''\n",
    "    minute_list = [\"o' clock\", \"past\", \"to\", 'quarter','half','minute', 'minutes'] # 00, 1 <= m <= 30, quarter = 15, 45, half = 30\n",
    "    nums = ['one','two','three','four','five','six','seven','eight','nine','ten','eleven','twelve','thirteen','fourteen',\n",
    "            'fifteen','sixteen','seventeen','eighteen','nineteen','twenty', 'twenty one', 'twenty two', 'twenty three', 'twenty four',\n",
    "           'twenty five', 'twenty six','twenty seven', 'twenty eight', 'twenty nine'] # 0 - 28\n",
    "    \n",
    "    if 1 <= h and 12 >= h and m == 0:\n",
    "        h_str = nums[h-1]\n",
    "        m_str = minute_list[0]\n",
    "        return h_str + ' ' + m_str\n",
    "    elif 1 <= h and 12 >= h and m >= 1 and m <= 30:\n",
    "        if m < 2:\n",
    "            m_str = nums[m-1] + ' ' + minute_list[5]\n",
    "            link = minute_list[1]\n",
    "            h_str = nums[h-1]\n",
    "        else:\n",
    "            if m == 15:\n",
    "                m_str = minute_list[3]\n",
    "                link = minute_list[1]\n",
    "                h_str = nums[h-1]\n",
    "            elif m == 30:\n",
    "                m_str = minute_list[4]\n",
    "                link = minute_list[1]\n",
    "                h_str = nums[h-1]\n",
    "            elif m <= 20:\n",
    "                m_str = nums[m-1] + ' ' + minute_list[6]\n",
    "                link = minute_list[1]\n",
    "                h_str = nums[h-1]\n",
    "            elif m > 20:\n",
    "                m_str = nums[19] + ' ' + nums[int(str(m)[1]) - 1] + ' ' + minute_list[6]\n",
    "                link = minute_list[1]\n",
    "                h_str = nums[h-1]\n",
    "                \n",
    "        return m_str + ' ' + link + ' ' + h_str\n",
    "      \n",
    "    elif 1 <= h and 12 >= h and m > 30 and m < 60:\n",
    "        if m == 45:\n",
    "            m_str = minute_list[3]\n",
    "            link = minute_list[2]\n",
    "            h_str = nums[h]\n",
    "        else:\n",
    "            mins_left = 60 - m\n",
    "            if mins_left > 1:\n",
    "                m_str = nums[mins_left - 1] + ' ' + minute_list[6]\n",
    "                link = minute_list[2]\n",
    "                h_str = nums[h]\n",
    "            else:\n",
    "                m_str = nums[mins_left - 1] + ' ' + minute_list[5]\n",
    "                link = minute_list[2]\n",
    "                h_str = nums[h]\n",
    "            \n",
    "        return m_str + ' ' + link + ' ' + h_str\n",
    "    \n",
    "h = int(input())\n",
    "m = int(input())\n",
    "\n",
    "timeInWords(h,m)"
   ]
  },
  {
   "cell_type": "code",
   "execution_count": 12,
   "metadata": {},
   "outputs": [
    {
     "name": "stdout",
     "output_type": "stream",
     "text": [
      "3\n",
      "0\n"
     ]
    },
    {
     "data": {
      "text/plain": [
       "\"three o' clock\""
      ]
     },
     "execution_count": 12,
     "metadata": {},
     "output_type": "execute_result"
    }
   ],
   "source": [
    "h = int(input())\n",
    "m = int(input())\n",
    "\n",
    "timeInWords(h,m)"
   ]
  },
  {
   "cell_type": "code",
   "execution_count": 13,
   "metadata": {},
   "outputs": [
    {
     "name": "stdout",
     "output_type": "stream",
     "text": [
      "7\n",
      "15\n"
     ]
    },
    {
     "data": {
      "text/plain": [
       "'quarter past seven'"
      ]
     },
     "execution_count": 13,
     "metadata": {},
     "output_type": "execute_result"
    }
   ],
   "source": [
    "h = int(input())\n",
    "m = int(input())\n",
    "\n",
    "timeInWords(h,m)"
   ]
  },
  {
   "cell_type": "code",
   "execution_count": 14,
   "metadata": {},
   "outputs": [
    {
     "name": "stdout",
     "output_type": "stream",
     "text": [
      "6\n",
      "35\n"
     ]
    },
    {
     "data": {
      "text/plain": [
       "'twenty five minutes to seven'"
      ]
     },
     "execution_count": 14,
     "metadata": {},
     "output_type": "execute_result"
    }
   ],
   "source": [
    "h = int(input())\n",
    "m = int(input())\n",
    "\n",
    "timeInWords(h,m)"
   ]
  },
  {
   "cell_type": "markdown",
   "metadata": {},
   "source": [
    "# ginorTS\n",
    "- not the best solution but it works\n",
    "- note that you won't be allowed to use python libraries so the solution for this would require using a list of uppercase alphabet letters and lowercase alphabet letters"
   ]
  },
  {
   "cell_type": "code",
   "execution_count": 16,
   "metadata": {},
   "outputs": [
    {
     "name": "stdout",
     "output_type": "stream",
     "text": [
      "Sorting1234\n"
     ]
    },
    {
     "data": {
      "text/plain": [
       "'ginortS1324'"
      ]
     },
     "execution_count": 16,
     "metadata": {},
     "output_type": "execute_result"
    }
   ],
   "source": [
    "def ginorts(string):\n",
    "    ss = []\n",
    "    for w in string:\n",
    "        ss.append(w)\n",
    "\n",
    "    odd = []\n",
    "    even = []\n",
    "    lower = []\n",
    "    upper = []\n",
    "    sortedd = []\n",
    "    for ww in ss:\n",
    "        if re.search('[0-9]',ww):\n",
    "            if int(ww) % 2 == 1:\n",
    "                odd.append(ww)\n",
    "            elif int(ww) % 2 == 0:\n",
    "                even.append(ww)\n",
    "        elif re.search('[A-Z]',ww):\n",
    "            upper.append(ww)\n",
    "        elif re.search('[a-z]',ww):\n",
    "            lower.append(ww)\n",
    "\n",
    "    lower.sort()\n",
    "    upper.sort()\n",
    "    odd.sort()\n",
    "    even.sort()\n",
    "\n",
    "    sortedd.append(''.join(lower))\n",
    "    sortedd.append(''.join(upper))\n",
    "    sortedd.append(''.join(odd))\n",
    "    sortedd.append(''.join(even))\n",
    "    \n",
    "    ginort = ''.join(sortedd)\n",
    "    return ginort\n",
    "\n",
    "string = input()\n",
    "ginorts(string)"
   ]
  },
  {
   "cell_type": "code",
   "execution_count": 17,
   "metadata": {},
   "outputs": [
    {
     "name": "stdout",
     "output_type": "stream",
     "text": [
      "  1qaz2wsx3edc4rfv5tgb6yhn7ujm8ik9ol0pQWERTYUIOPASDFGHJKLZXCVBNM\n"
     ]
    },
    {
     "data": {
      "text/plain": [
       "'abcdefghijklmnopqrstuvwxyzABCDEFGHIJKLMNOPQRSTUVWXYZ1357902468'"
      ]
     },
     "execution_count": 17,
     "metadata": {},
     "output_type": "execute_result"
    }
   ],
   "source": [
    "string = input()\n",
    "ginorts(string)"
   ]
  },
  {
   "cell_type": "markdown",
   "metadata": {},
   "source": [
    "# Encryption\n",
    "- bonus because math presets aren't allowed\n",
    "- this is possible to do it by making your own floor division and ceiling division functions using round()"
   ]
  },
  {
   "cell_type": "code",
   "execution_count": 19,
   "metadata": {},
   "outputs": [
    {
     "name": "stdout",
     "output_type": "stream",
     "text": [
      "haveaniceday\n"
     ]
    },
    {
     "data": {
      "text/plain": [
       "'hae and via ecy'"
      ]
     },
     "execution_count": 19,
     "metadata": {},
     "output_type": "execute_result"
    }
   ],
   "source": [
    "def encryption(s):\n",
    "    \n",
    "    c = math.ceil(math.sqrt(len(s)))\n",
    "    r = math.floor(math.sqrt(len(s)))\n",
    "    encrypt = []\n",
    "    x = 0\n",
    "    y = c\n",
    "\n",
    "    for _ in range(c):\n",
    "        encrypt.append(s[x:y]) \n",
    "        y = y + c\n",
    "        x = x + c\n",
    "    \n",
    "    secret = []\n",
    "    for i in range(c):\n",
    "        encrypt2 = []\n",
    "        for word in encrypt:\n",
    "            encrypt2.append(word[i:i+1])\n",
    "        secret.append(''.join(encrypt2))\n",
    "    \n",
    "    w = ''\n",
    "    for word in secret:\n",
    "        w = w + ' ' + word\n",
    "    \n",
    "    return w[1:]\n",
    "    \n",
    "\n",
    "# if __name__ == '__main__':\n",
    "#     fptr = open(os.environ['OUTPUT_PATH'], 'w')\n",
    "#     s = input()\n",
    "#     result = encryption(s)\n",
    "#     fptr.write(result + '\\n')\n",
    "#     fptr.close()\n",
    "\n",
    "s = input()\n",
    "encryption(s)"
   ]
  },
  {
   "cell_type": "code",
   "execution_count": 20,
   "metadata": {},
   "outputs": [
    {
     "name": "stdout",
     "output_type": "stream",
     "text": [
      "feedthedog\n"
     ]
    },
    {
     "data": {
      "text/plain": [
       "'fto ehg ee dd'"
      ]
     },
     "execution_count": 20,
     "metadata": {},
     "output_type": "execute_result"
    }
   ],
   "source": [
    "s = input()\n",
    "encryption(s)"
   ]
  },
  {
   "cell_type": "code",
   "execution_count": 21,
   "metadata": {},
   "outputs": [
    {
     "name": "stdout",
     "output_type": "stream",
     "text": [
      "chillout\n"
     ]
    },
    {
     "data": {
      "text/plain": [
       "'clu hlt io'"
      ]
     },
     "execution_count": 21,
     "metadata": {},
     "output_type": "execute_result"
    }
   ],
   "source": [
    "s = input()\n",
    "encryption(s)"
   ]
  },
  {
   "cell_type": "code",
   "execution_count": 22,
   "metadata": {},
   "outputs": [
    {
     "name": "stdout",
     "output_type": "stream",
     "text": [
      "wclwfoznbmyycxvaxagjhtexdkwjqhlojykopldsxesbbnezqmixfpujbssrbfhlgubvfhpfliimvmnny\n"
     ]
    },
    {
     "data": {
      "text/plain": [
       "'wmgjpnull cyjqlejgi lyhhdzbui wctlsqsbm fxeoxmsvv ovxjeirfm zadysxbhn nxkkbffpn bawobphfy'"
      ]
     },
     "execution_count": 22,
     "metadata": {},
     "output_type": "execute_result"
    }
   ],
   "source": [
    "s = input()\n",
    "encryption(s)"
   ]
  },
  {
   "cell_type": "code",
   "execution_count": null,
   "metadata": {},
   "outputs": [],
   "source": []
  }
 ],
 "metadata": {
  "kernelspec": {
   "display_name": "Python 3",
   "language": "python",
   "name": "python3"
  },
  "language_info": {
   "codemirror_mode": {
    "name": "ipython",
    "version": 3
   },
   "file_extension": ".py",
   "mimetype": "text/x-python",
   "name": "python",
   "nbconvert_exporter": "python",
   "pygments_lexer": "ipython3",
   "version": "3.7.1"
  }
 },
 "nbformat": 4,
 "nbformat_minor": 2
}
